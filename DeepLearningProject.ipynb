{
  "nbformat": 4,
  "nbformat_minor": 0,
  "metadata": {
    "colab": {
      "provenance": [],
      "gpuType": "T4",
      "authorship_tag": "ABX9TyMwinSHwL0qNH7B9AgidFn2"
    },
    "kernelspec": {
      "name": "python3",
      "display_name": "Python 3"
    },
    "language_info": {
      "name": "python"
    },
    "accelerator": "GPU"
  },
  "cells": [
    {
      "cell_type": "code",
      "execution_count": null,
      "metadata": {
        "colab": {
          "base_uri": "https://localhost:8080/"
        },
        "id": "DIluIYdtEP-o",
        "outputId": "c027cd77-9a50-4983-dd54-5d32a2ee7313"
      },
      "outputs": [
        {
          "output_type": "stream",
          "name": "stdout",
          "text": [
            "\u001b[?25l   \u001b[90m━━━━━━━━━━━━━━━━━━━━━━━━━━━━━━━━━━━━━━━━\u001b[0m \u001b[32m0.0/974.5 kB\u001b[0m \u001b[31m?\u001b[0m eta \u001b[36m-:--:--\u001b[0m\r\u001b[2K   \u001b[91m━━━━━━━━━━━━━━━━━━━━━━━━━━━━━━━━━━━━━━━\u001b[0m\u001b[91m╸\u001b[0m \u001b[32m972.8/974.5 kB\u001b[0m \u001b[31m41.3 MB/s\u001b[0m eta \u001b[36m0:00:01\u001b[0m\r\u001b[2K   \u001b[90m━━━━━━━━━━━━━━━━━━━━━━━━━━━━━━━━━━━━━━━━\u001b[0m \u001b[32m974.5/974.5 kB\u001b[0m \u001b[31m26.2 MB/s\u001b[0m eta \u001b[36m0:00:00\u001b[0m\n",
            "\u001b[?25h\u001b[?25l   \u001b[90m━━━━━━━━━━━━━━━━━━━━━━━━━━━━━━━━━━━━━━━━\u001b[0m \u001b[32m0.0/85.2 kB\u001b[0m \u001b[31m?\u001b[0m eta \u001b[36m-:--:--\u001b[0m\r\u001b[2K   \u001b[90m━━━━━━━━━━━━━━━━━━━━━━━━━━━━━━━━━━━━━━━━\u001b[0m \u001b[32m85.2/85.2 kB\u001b[0m \u001b[31m8.2 MB/s\u001b[0m eta \u001b[36m0:00:00\u001b[0m\n",
            "\u001b[2K   \u001b[90m━━━━━━━━━━━━━━━━━━━━━━━━━━━━━━━━━━━━━━━━\u001b[0m \u001b[32m66.8/66.8 kB\u001b[0m \u001b[31m6.5 MB/s\u001b[0m eta \u001b[36m0:00:00\u001b[0m\n",
            "\u001b[2K   \u001b[90m━━━━━━━━━━━━━━━━━━━━━━━━━━━━━━━━━━━━━━━━\u001b[0m \u001b[32m49.9/49.9 MB\u001b[0m \u001b[31m20.0 MB/s\u001b[0m eta \u001b[36m0:00:00\u001b[0m\n",
            "\u001b[2K   \u001b[90m━━━━━━━━━━━━━━━━━━━━━━━━━━━━━━━━━━━━━━━━\u001b[0m \u001b[32m7.8/7.8 MB\u001b[0m \u001b[31m119.7 MB/s\u001b[0m eta \u001b[36m0:00:00\u001b[0m\n",
            "\u001b[2K   \u001b[90m━━━━━━━━━━━━━━━━━━━━━━━━━━━━━━━━━━━━━━━━\u001b[0m \u001b[32m363.4/363.4 MB\u001b[0m \u001b[31m4.7 MB/s\u001b[0m eta \u001b[36m0:00:00\u001b[0m\n",
            "\u001b[2K   \u001b[90m━━━━━━━━━━━━━━━━━━━━━━━━━━━━━━━━━━━━━━━━\u001b[0m \u001b[32m13.8/13.8 MB\u001b[0m \u001b[31m91.6 MB/s\u001b[0m eta \u001b[36m0:00:00\u001b[0m\n",
            "\u001b[2K   \u001b[90m━━━━━━━━━━━━━━━━━━━━━━━━━━━━━━━━━━━━━━━━\u001b[0m \u001b[32m24.6/24.6 MB\u001b[0m \u001b[31m86.9 MB/s\u001b[0m eta \u001b[36m0:00:00\u001b[0m\n",
            "\u001b[2K   \u001b[90m━━━━━━━━━━━━━━━━━━━━━━━━━━━━━━━━━━━━━━━━\u001b[0m \u001b[32m883.7/883.7 kB\u001b[0m \u001b[31m54.9 MB/s\u001b[0m eta \u001b[36m0:00:00\u001b[0m\n",
            "\u001b[2K   \u001b[91m━━━━━\u001b[0m\u001b[90m╺\u001b[0m\u001b[90m━━━━━━━━━━━━━━━━━━━━━━━━━━━━━━━━━━\u001b[0m \u001b[32m91.2/664.8 MB\u001b[0m \u001b[31m134.2 MB/s\u001b[0m eta \u001b[36m0:00:05\u001b[0m"
          ]
        }
      ],
      "source": [
        "!pip install -q kaggle opencv-python numpy scipy scikit-image matplotlib ultralytics pyyaml roboflow\n",
        "\n",
        "import os\n",
        "import glob\n",
        "import kagglehub\n",
        "from torch.utils.data import DataLoader #Import DataLoader from the torch module\n",
        "import json\n",
        "from google.colab import files\n",
        "import torch\n",
        "from roboflow import Roboflow\n",
        "\n",
        "# Clone YOLOv5 repository\n",
        "!pip install ultralytics\n",
        "!pip install pyyaml\n",
        "\n",
        "# Ensure kaggle.json exists before proceeding\n",
        "#if not os.path.exists(\"kaggle.json\"):\n",
        " #   files.upload()  # Manually upload kaggle.json\n",
        "\n",
        "# Move kaggle.json to the correct directory\n",
        "#os.makedirs(\"/root/.kaggle\", exist_ok=True)\n",
        "#!mv kaggle.json /root/.kaggle/\n",
        "#!chmod 600 /root/.kaggle/kaggle.json\n",
        "\n",
        "# Download the BDD100K dataset and extract it\n",
        "#!kaggle datasets download -d marquis03/bdd100k --unzip --force\n",
        "\n",
        "# Verify extracted dataset structure\n",
        "#dataset_path = kagglehub.dataset_download(\"marquis03/bdd100k\")\n",
        "#print(dataset_path + \"/train\")\n",
        "\n",
        "#start training\n",
        "!pip install roboflow\n",
        "!git clone https://github.com/ultralytics/yolov5\n",
        "%cd yolov5\n",
        "!pip install -r requirements.txt\n",
        "\n",
        "rf = Roboflow(api_key=\"nFmvh70epQzycy4h4i9q\")\n",
        "project = rf.workspace(\"my-ujj3l\").project(\"bdd100k-jufeu-azhbt\")\n",
        "version = project.version(1)\n",
        "dataset = version.download(\"yolov5\")\n",
        "print(dataset)\n",
        "%cd yolov5\n",
        "!pip install -r requirements.txt\n",
        "# Use the correct path to your YAML file\n",
        "!python train.py --img 640 --batch 16 --epochs 100 --data /content/yolov5/BDD100k-1/data.yaml --weights yolov5s.pt\n",
        "!python val.py --weights runs/train/exp/weights/best.pt --data !python train.py --img 640 --batch 8 --epochs 100 --data /content/yolov5/BDD100k-1/data.yaml --weights yolov5s.pt --img 640 --half\n",
        "import torch\n",
        "\n",
        "# Check if 'best.pt' exists, if not, use 'last.pt'\n",
        "weights_path = '/content/yolov5/runs/train/exp/weights/best.pt'\n",
        "if not os.path.exists(weights_path):\n",
        "    weights_path = '/content/yolov5/runs/train/exp/weights/last.pt'\n",
        "    print(f\"Using 'last.pt' instead of 'best.pt' as 'best.pt' was not found.\")\n",
        "files.download(weights_path)\n",
        "# Load the trained weights\n",
        "model = torch.hub.load('ultralytics/yolov5', 'custom', path=weights_path, force_reload=True)"
      ]
    },
    {
      "cell_type": "code",
      "source": [
        "#start training\n",
        "!pip install roboflow\n",
        "!git clone https://github.com/ultralytics/yolov5\n",
        "%cd yolov5\n",
        "!pip install -r requirements.txt\n",
        "\n",
        "rf = Roboflow(api_key=\"nFmvh70epQzycy4h4i9q\")\n",
        "project = rf.workspace(\"pedro-azevedo-3c9ol\").project(\"bdd100k-3zgda\")\n",
        "version = project.version(5)\n",
        "dataset = version.download(\"yolov5\")\n",
        "\n",
        "print(dataset)\n",
        "%cd yolov5\n",
        "!pip install -r requirements.txt\n",
        "# Use the correct path to your YAML file\n",
        "!python train.py --img 640 --batch 16 --epochs 100 --data /content/yolov5/BDD100k-1/data.yaml --weights best.pt\n",
        "!python val.py --weights runs/train/exp/weights/best.pt --data !python train.py --img 640 --batch 8 --epochs 100 --data /content/yolov5/BDD100k-1/data.yaml --weights yolov5s.pt --img 640 --half\n",
        "import torch\n",
        "\n",
        "# Check if 'best.pt' exists, if not, use 'last.pt'\n",
        "weights_path = '/content/yolov5/runs/train/exp/weights/best.pt'\n",
        "if not os.path.exists(weights_path):\n",
        "    weights_path = '/content/yolov5/runs/train/exp/weights/last.pt'\n",
        "    print(f\"Using 'last.pt' instead of 'best.pt' as 'best.pt' was not found.\")\n",
        "files.download(weights_path)\n",
        "# Load the trained weights\n",
        "model = torch.hub.load('ultralytics/yolov5', 'custom', path=weights_path, force_reload=True)"
      ],
      "metadata": {
        "id": "1WPtGCMvWuD3"
      },
      "execution_count": null,
      "outputs": []
    },
    {
      "cell_type": "code",
      "source": [],
      "metadata": {
        "id": "UaR3GJIjiyu4"
      },
      "execution_count": null,
      "outputs": []
    }
  ]
}